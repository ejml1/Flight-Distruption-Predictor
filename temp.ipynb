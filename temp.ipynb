{
 "cells": [
  {
   "cell_type": "markdown",
   "metadata": {},
   "source": [
    "Flight Date, Origin State, Destination State, DestAirportID\n"
   ]
  },
  {
   "cell_type": "code",
   "execution_count": null,
   "metadata": {},
   "outputs": [],
   "source": []
  },
  {
   "cell_type": "code",
   "execution_count": null,
   "metadata": {},
   "outputs": [],
   "source": [
    "# Drop Flight Date, Origin State, Destination State\n",
    "flights = flights.drop(columns=[\"FlightDate\", \"OriginState\", \"DestState\"])"
   ]
  },
  {
   "cell_type": "markdown",
   "metadata": {},
   "source": [
    "Check that Dest and DestAirportID map 1:1\n"
   ]
  },
  {
   "cell_type": "code",
   "execution_count": null,
   "metadata": {},
   "outputs": [],
   "source": [
    "# Create a DataFrame with unique pairs of 'dest' and 'DestAirportID'\n",
    "unique_pairs = flights[['Dest', 'DestAirportID']].drop_duplicates()\n",
    "\n",
    "duplicated_keys = unique_pairs['Dest'].duplicated()\n",
    "\n",
    "are_keys_unique = not duplicated_keys.any()\n",
    "\n",
    "print(are_keys_unique)"
   ]
  },
  {
   "cell_type": "markdown",
   "metadata": {},
   "source": [
    "Check that Dest and DestAirportSeqID map 1:1"
   ]
  },
  {
   "cell_type": "code",
   "execution_count": null,
   "metadata": {},
   "outputs": [],
   "source": [
    "# Create a DataFrame with unique pairs of 'dest' and 'DestAirportID'\n",
    "unique_pairs = flights[['DestAirportID', 'DestAirportSeqID']].drop_duplicates()\n",
    "\n",
    "duplicated_keys = unique_pairs['DestAirportID'].duplicated()\n",
    "\n",
    "are_keys_unique = not duplicated_keys.any()\n",
    "\n",
    "print(are_keys_unique)\n",
    "\n",
    "# Group by 'Dest' and aggregate 'DestAirportSeqID' into a list\n",
    "grouped = flights.groupby('DestAirportID')['DestAirportSeqID'].agg(list).reset_index()\n",
    "\n",
    "# Remove duplicates from 'DestAirportSeqID' lists\n",
    "grouped['DestAirportSeqID'] = grouped['DestAirportSeqID'].apply(lambda x: list(set(x)))\n",
    "\n",
    "# Filter rows where the length of the 'DestAirportSeqID' list is greater than 1\n",
    "filtered = grouped[grouped['DestAirportSeqID'].apply(len) > 1]\n",
    "\n",
    "print(filtered)"
   ]
  },
  {
   "cell_type": "code",
   "execution_count": null,
   "metadata": {},
   "outputs": [],
   "source": [
    "# Create a DataFrame with unique pairs of 'dest' and 'DestAirportID'\n",
    "unique_pairs = flights[['DestAirportID', 'DestCityMarketID']].drop_duplicates()\n",
    "\n",
    "duplicated_keys = unique_pairs['DestAirportID'].duplicated()\n",
    "\n",
    "are_keys_unique = not duplicated_keys.any()\n",
    "\n",
    "print(are_keys_unique)"
   ]
  },
  {
   "cell_type": "code",
   "execution_count": null,
   "metadata": {},
   "outputs": [],
   "source": [
    "# Show number of unique values in Tail_Number\n",
    "print(\"Unique Tail_Number: \", len(flights[\"Tail_Number\"].unique()))\n",
    "\n",
    "# Show how many missing values are in the Tail_Number column\n",
    "print(\"Tail_Number missing: \", flights[\"Tail_Number\"].isna().sum())\n",
    "\n",
    "# Show number of missing values in Tail_Number column as a percentage of the total number of rows\n",
    "print(\"Tail_Number missing (%): \", flights[\"Tail_Number\"].isna().sum() / flights.shape[0] * 100)"
   ]
  }
 ],
 "metadata": {
  "language_info": {
   "name": "python"
  }
 },
 "nbformat": 4,
 "nbformat_minor": 2
}
